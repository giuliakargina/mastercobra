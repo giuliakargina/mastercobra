{
 "cells": [
  {
   "cell_type": "markdown",
   "id": "b36b2c2e",
   "metadata": {},
   "source": [
    "# Small primer for Python"
   ]
  },
  {
   "cell_type": "code",
   "execution_count": 49,
   "id": "73eef92b",
   "metadata": {},
   "outputs": [],
   "source": [
    "a = 'Corso_di programmazione in Python!'"
   ]
  },
  {
   "cell_type": "code",
   "execution_count": 58,
   "id": "dc097fe7",
   "metadata": {},
   "outputs": [],
   "source": [
    "b = a[-4:]"
   ]
  },
  {
   "cell_type": "code",
   "execution_count": 59,
   "id": "5b9b0fc4",
   "metadata": {},
   "outputs": [
    {
     "name": "stdout",
     "output_type": "stream",
     "text": [
      "hon!\n"
     ]
    }
   ],
   "source": [
    "print(b)"
   ]
  },
  {
   "cell_type": "markdown",
   "id": "77c0ad4d",
   "metadata": {},
   "source": [
    "## Operazioni con tipi numerici"
   ]
  },
  {
   "cell_type": "code",
   "execution_count": 1,
   "id": "58451f5d",
   "metadata": {},
   "outputs": [
    {
     "name": "stdout",
     "output_type": "stream",
     "text": [
      "16 256 0.25 0 2\n"
     ]
    }
   ],
   "source": [
    "a, b = 2, 8\n",
    "print(a*b, a**b, a / b, a // b, a % b)"
   ]
  },
  {
   "cell_type": "markdown",
   "id": "7772294d",
   "metadata": {},
   "source": [
    "## Stringhe"
   ]
  },
  {
   "cell_type": "code",
   "execution_count": 44,
   "id": "55d8b023",
   "metadata": {},
   "outputs": [
    {
     "name": "stdout",
     "output_type": "stream",
     "text": [
      "have\n",
      "haven't\n",
      "haven't\n",
      "haven\\'t\n",
      "\n",
      "Stringa su \n",
      "più righe con \n",
      "    formattazione\n",
      "Stringa su più righe con \n",
      "    formattazione\n",
      "Stringa che viene automaticamente concatenata\n"
     ]
    }
   ],
   "source": [
    "print('have')\n",
    "print('haven\\'t')\n",
    "print(\"haven't\")\n",
    "print(r\"haven\\'t\")\n",
    "print(\"\"\"\n",
    "Stringa su \n",
    "più righe con \n",
    "    formattazione\"\"\")\n",
    "print(\"\"\"\\\n",
    "Stringa su più righe con \n",
    "    formattazione\"\"\")\n",
    "print(\n",
    "    ('Stringa che viene automaticamente ' 'concatenata')\n",
    ")"
   ]
  },
  {
   "cell_type": "markdown",
   "id": "22f641ea",
   "metadata": {},
   "source": [
    "### Indici"
   ]
  },
  {
   "cell_type": "code",
   "execution_count": 46,
   "id": "0f640bca",
   "metadata": {},
   "outputs": [
    {
     "name": "stdout",
     "output_type": "stream",
     "text": [
      "ddition to indexing, slicing is also supported to work with strings In a\n",
      "h strings\n",
      "sgnirt\n"
     ]
    }
   ],
   "source": [
    "s = 'In addition to indexing, slicing is also supported to work with strings'\n",
    "print(s[4:], s[:4])\n",
    "print(s[-9:])\n",
    "print(s[-1] + s[-2] + s[-3] + s[-4] + s[-5] + s[-6])"
   ]
  },
  {
   "cell_type": "code",
   "execution_count": 50,
   "id": "755af94f",
   "metadata": {},
   "outputs": [
    {
     "data": {
      "text/plain": [
       "'In additiox to indexing, slicing is also supported to work with strings'"
      ]
     },
     "execution_count": 50,
     "metadata": {},
     "output_type": "execute_result"
    }
   ],
   "source": [
    "s[:10] + 'x' + s[11:]"
   ]
  },
  {
   "cell_type": "code",
   "execution_count": 62,
   "id": "5948cf4e",
   "metadata": {},
   "outputs": [],
   "source": [
    "a = 32\n",
    "b = float(a)"
   ]
  },
  {
   "cell_type": "code",
   "execution_count": 63,
   "id": "4de1f019",
   "metadata": {},
   "outputs": [
    {
     "data": {
      "text/plain": [
       "32.0"
      ]
     },
     "execution_count": 63,
     "metadata": {},
     "output_type": "execute_result"
    }
   ],
   "source": [
    "b"
   ]
  },
  {
   "cell_type": "markdown",
   "id": "2bbb3625",
   "metadata": {},
   "source": [
    "### Metodi utili su stringhe"
   ]
  },
  {
   "cell_type": "code",
   "execution_count": 31,
   "id": "e864227f",
   "metadata": {},
   "outputs": [
    {
     "name": "stdout",
     "output_type": "stream",
     "text": [
      "in addition to indexing, slicing is also supported to work with strings\n",
      "IN ADDITION TO INDEXING, SLICING IS ALSO SUPPORTED TO WORK WITH STRINGS\n",
      "In Addition To Indexing, Slicing Is Also Supported To Work With Strings\n",
      "iN aDDITION tO iNDEXING, sLICING iS aLSO sUPPORTED tO wORK wITH sTRINGS\n",
      "['In addition ', ' indexing, slicing is also supported ', ' work with strings']\n",
      "12\n",
      "2\n",
      "Usa stringa in cui inserire i numeri 4 e 0.6666666666666666\n"
     ]
    }
   ],
   "source": [
    "print(s.lower())\n",
    "print(s.upper())\n",
    "print(s.title())\n",
    "print(s.title().swapcase())\n",
    "print(s.split('to'))\n",
    "print(s.index('to'))\n",
    "print(s.count('to'))\n",
    "print(\"Usa stringa in cui inserire i numeri {} e {}\".format(4, 2 / 3))"
   ]
  },
  {
   "cell_type": "markdown",
   "id": "8f74e81a",
   "metadata": {},
   "source": [
    "## Esercizi\n",
    "Data una stringa di lunghezza arbitria\n",
    "- ottenere la stringa composta dalla concatenazione dai primi e degli ultimi 4 elementi\n",
    "- stampare la stringa in ordine inverso"
   ]
  },
  {
   "cell_type": "code",
   "execution_count": null,
   "id": "a4b44b7a",
   "metadata": {},
   "outputs": [],
   "source": []
  }
 ],
 "metadata": {
  "kernelspec": {
   "display_name": "Python 3 (ipykernel)",
   "language": "python",
   "name": "python3"
  },
  "language_info": {
   "codemirror_mode": {
    "name": "ipython",
    "version": 3
   },
   "file_extension": ".py",
   "mimetype": "text/x-python",
   "name": "python",
   "nbconvert_exporter": "python",
   "pygments_lexer": "ipython3",
   "version": "3.8.8"
  },
  "toc": {
   "base_numbering": 1,
   "nav_menu": {},
   "number_sections": true,
   "sideBar": true,
   "skip_h1_title": false,
   "title_cell": "Table of Contents",
   "title_sidebar": "Contents",
   "toc_cell": false,
   "toc_position": {},
   "toc_section_display": true,
   "toc_window_display": false
  }
 },
 "nbformat": 4,
 "nbformat_minor": 5
}
