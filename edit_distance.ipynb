{
 "cells": [
  {
   "cell_type": "markdown",
   "metadata": {},
   "source": [
    "# EDIT DISTANCE\n",
    "**Problema:** date due stringhe $a$ e $b$, individuare una strategia per calcolare il numero minimo di operazioni necessario a trasformare $a$ in $b$, avendo come possibili operazioni l'inserimento di un carattere, la cancellazione di un carattere, e la sostituzione di un carattere."
   ]
  },
  {
   "cell_type": "markdown",
   "metadata": {},
   "source": [
    "## SOLUZIONE 1\n",
    "\n",
    "- Se $a$ è nulla allora occorre aggiungere un numero di caratteri pari alla lunghezza di $b$\n",
    "- Se $b$ è nulla allora occorre aggiungere un numero di caratteri pari alla lunghezza di $a$\n",
    "- Se l'ultimo carattere di $a$ e $b$ è lo stesso, allora il costo è quello che calcoliamo per le sottostringhe $a_{-1}$ e $b_{-1}$\n",
    "- Se infine gli ultimi caratteri di $a$ e $b$ sono diversi, occorre fare un'operazione per l'ultimo carattere più il costo inferiore per le tre coppie di sottostringhe da cui è possibile arrivare all'ultimo carattere"
   ]
  },
  {
   "cell_type": "code",
   "execution_count": 42,
   "metadata": {},
   "outputs": [],
   "source": [
    "def edist(a, b, cost=0, depth=0): \n",
    "    # print(a, b, cost, depth)\n",
    "    if len(a) == 0:\n",
    "        return len(b)\n",
    "    elif len(b) == 0:\n",
    "        return len(a)\n",
    "    elif a[-1] == b[-1]:\n",
    "        return edist(a[:-1], b[:-1], cost, depth = depth + 1)\n",
    "    else:\n",
    "        return 1 + min([\n",
    "            edist(a[:-1], b, cost + 1, depth = depth + 1),\n",
    "            edist(a, b[:-1], cost + 1, depth = depth + 1),\n",
    "            edist(a[:-1], b[:-1], cost + 1, depth = depth + 1)\n",
    "        ])"
   ]
  },
  {
   "cell_type": "code",
   "execution_count": 43,
   "metadata": {},
   "outputs": [
    {
     "data": {
      "text/plain": [
       "2"
      ]
     },
     "execution_count": 43,
     "metadata": {},
     "output_type": "execute_result"
    }
   ],
   "source": [
    "edist('casa', 'pasta')"
   ]
  },
  {
   "cell_type": "code",
   "execution_count": 23,
   "metadata": {},
   "outputs": [
    {
     "ename": "TypeError",
     "evalue": "object of type 'int' has no len()",
     "output_type": "error",
     "traceback": [
      "\u001b[1;31m---------------------------------------------------------------------------\u001b[0m",
      "\u001b[1;31mTypeError\u001b[0m                                 Traceback (most recent call last)",
      "\u001b[1;32m<ipython-input-23-81b5f3e26402>\u001b[0m in \u001b[0;36m<module>\u001b[1;34m\u001b[0m\n\u001b[0;32m      2\u001b[0m \u001b[0ma\u001b[0m \u001b[1;33m=\u001b[0m \u001b[1;36m2\u001b[0m\u001b[1;33m\u001b[0m\u001b[1;33m\u001b[0m\u001b[0m\n\u001b[0;32m      3\u001b[0m \u001b[0mb\u001b[0m \u001b[1;33m=\u001b[0m \u001b[1;36m3\u001b[0m\u001b[1;33m\u001b[0m\u001b[1;33m\u001b[0m\u001b[0m\n\u001b[1;32m----> 4\u001b[1;33m \u001b[0mm\u001b[0m \u001b[1;33m=\u001b[0m \u001b[0mnp\u001b[0m\u001b[1;33m.\u001b[0m\u001b[0mzeros\u001b[0m\u001b[1;33m(\u001b[0m\u001b[1;33m(\u001b[0m\u001b[0mlen\u001b[0m\u001b[1;33m(\u001b[0m\u001b[0ma\u001b[0m\u001b[1;33m)\u001b[0m \u001b[1;33m+\u001b[0m \u001b[1;36m1\u001b[0m\u001b[1;33m,\u001b[0m \u001b[0mlen\u001b[0m\u001b[1;33m(\u001b[0m\u001b[0mb\u001b[0m\u001b[1;33m)\u001b[0m \u001b[1;33m+\u001b[0m \u001b[1;36m1\u001b[0m\u001b[1;33m)\u001b[0m\u001b[1;33m)\u001b[0m\u001b[1;33m\u001b[0m\u001b[1;33m\u001b[0m\u001b[0m\n\u001b[0m\u001b[0;32m      5\u001b[0m \u001b[0mprint\u001b[0m\u001b[1;33m(\u001b[0m\u001b[0mm\u001b[0m\u001b[1;33m)\u001b[0m\u001b[1;33m\u001b[0m\u001b[1;33m\u001b[0m\u001b[0m\n",
      "\u001b[1;31mTypeError\u001b[0m: object of type 'int' has no len()"
     ]
    }
   ],
   "source": []
  },
  {
   "cell_type": "code",
   "execution_count": 30,
   "metadata": {},
   "outputs": [
    {
     "data": {
      "text/plain": [
       "array([[0., 0., 0., 0., 0., 0.],\n",
       "       [0., 0., 0., 0., 0., 0.],\n",
       "       [0., 0., 0., 0., 0., 0.],\n",
       "       [0., 0., 0., 0., 0., 0.],\n",
       "       [0., 0., 0., 0., 0., 0.]])"
      ]
     },
     "execution_count": 30,
     "metadata": {},
     "output_type": "execute_result"
    }
   ],
   "source": [
    "import numpy as np\n",
    "a, b = 'casa', 'casta'\n",
    "m = np.zeros((len(a) + 1, len(b) + 1))\n",
    "m"
   ]
  },
  {
   "cell_type": "markdown",
   "metadata": {},
   "source": [
    "## SOLUZIONE 2\n",
    "\n",
    "<table>\n",
    "    <tr><td></td><td>#</td><td>c</td><td>a</td><td>s</td><td>t</td><td>o</td></tr>\n",
    "    <tr><td>#</td><td>0</td><td>1</td><td>2</td><td>3</td><td>4</td><td>5</td></tr>\n",
    "    <tr><td>c</td><td>1</td><td></td><td></td><td></td><td></td><td></td></tr>\n",
    "    <tr><td>a</td><td>2</td><td></td><td></td><td></td><td></td><td></td></tr>\n",
    "    <tr><td>s</td><td>3</td><td></td><td></td><td></td><td></td><td></td></tr>\n",
    "    <tr><td>a</td><td>4</td><td></td><td></td><td></td><td></td><td></td></tr>\n",
    "</table>\n",
    "\n",
    "$E(i, j) = \\min \\{E(i-1, j) + 1; E(i, j-1) + 1; E(i-1,i-j) + k\\}$, where $k = 1$ if $s_1(i) \\geq s_2(j), k = 0$ otherwise"
   ]
  },
  {
   "cell_type": "code",
   "execution_count": 44,
   "metadata": {},
   "outputs": [],
   "source": [
    "import numpy as np\n",
    "\n"
   ]
  },
  {
   "cell_type": "code",
   "execution_count": 45,
   "metadata": {},
   "outputs": [],
   "source": [
    "a, b = 'casa', 'casta'"
   ]
  },
  {
   "cell_type": "code",
   "execution_count": 46,
   "metadata": {},
   "outputs": [],
   "source": [
    "def nf(a, b):\n",
    "    m = np.zeros((len(a) + 1, len(b) + 1))\n",
    "    m[0,:] = list(range(len(b) + 1))\n",
    "    m[:,0] = list(range(len(a) + 1))\n",
    "    for row in range(1, len(a) + 1):\n",
    "        for col in range(1, len(b) + 1):\n",
    "            k = min([\n",
    "                m[row-1,col], m[row,col-1], m[row-1,col-1]])\n",
    "            if a[row-1] != b[col-1]:\n",
    "                k += 1\n",
    "            m[row,col] = k\n",
    "    return m"
   ]
  },
  {
   "cell_type": "code",
   "execution_count": 47,
   "metadata": {},
   "outputs": [],
   "source": [
    "m = nf('casa', 'casto')"
   ]
  },
  {
   "cell_type": "code",
   "execution_count": 48,
   "metadata": {},
   "outputs": [
    {
     "data": {
      "text/plain": [
       "array([[0., 1., 2., 3., 4., 5.],\n",
       "       [1., 0., 1., 2., 3., 4.],\n",
       "       [2., 1., 0., 1., 2., 3.],\n",
       "       [3., 2., 1., 0., 1., 2.],\n",
       "       [4., 3., 1., 1., 1., 2.]])"
      ]
     },
     "execution_count": 48,
     "metadata": {},
     "output_type": "execute_result"
    }
   ],
   "source": [
    "m"
   ]
  },
  {
   "cell_type": "code",
   "execution_count": 49,
   "metadata": {},
   "outputs": [],
   "source": [
    "def ddist(a, b):\n",
    "    m = np.zeros((len(a)+1, len(b)+1))\n",
    "    for v in range(len(b) + 1):\n",
    "        m[0][v] = v\n",
    "    for v in range(len(a) + 1):\n",
    "        m[v][0] = v\n",
    "    return m"
   ]
  },
  {
   "cell_type": "code",
   "execution_count": 50,
   "metadata": {},
   "outputs": [],
   "source": [
    "x = ddist('casa', 'casto')"
   ]
  },
  {
   "cell_type": "code",
   "execution_count": 51,
   "metadata": {},
   "outputs": [],
   "source": [
    "import numpy as np"
   ]
  },
  {
   "cell_type": "code",
   "execution_count": 52,
   "metadata": {},
   "outputs": [],
   "source": [
    "def D(a, b):\n",
    "    row = range(0, len(b)+1)\n",
    "    col = range(0, len(a)+1)\n",
    "    m = np.zeros((len(a)+1, len(b)+1))\n",
    "    m[0,:] = row\n",
    "    m[:,0] = col\n",
    "    for i, x in enumerate(a):\n",
    "        iM = i + 1\n",
    "        for j, y in enumerate(b):\n",
    "            jM = j + 1 \n",
    "            if x == y:\n",
    "                cost = 0\n",
    "            else:\n",
    "                cost = 1\n",
    "            cost += min([\n",
    "                m[iM-1,jM-1], \n",
    "                m[iM,jM-1]+(1-cost),\n",
    "                m[iM-1,jM]+(1-cost),\n",
    "            ])\n",
    "            m[iM,jM] = cost\n",
    "    return m"
   ]
  },
  {
   "cell_type": "code",
   "execution_count": 53,
   "metadata": {},
   "outputs": [],
   "source": [
    "r = D('casa', 'casto')"
   ]
  },
  {
   "cell_type": "code",
   "execution_count": 54,
   "metadata": {},
   "outputs": [
    {
     "data": {
      "text/plain": [
       "array([[0., 1., 2., 3., 4., 5.],\n",
       "       [1., 0., 1., 2., 3., 4.],\n",
       "       [2., 1., 0., 1., 2., 3.],\n",
       "       [3., 2., 1., 0., 1., 2.],\n",
       "       [4., 3., 2., 1., 1., 2.]])"
      ]
     },
     "execution_count": 54,
     "metadata": {},
     "output_type": "execute_result"
    }
   ],
   "source": [
    "r"
   ]
  },
  {
   "cell_type": "code",
   "execution_count": null,
   "metadata": {},
   "outputs": [],
   "source": []
  },
  {
   "cell_type": "code",
   "execution_count": null,
   "metadata": {},
   "outputs": [],
   "source": []
  }
 ],
 "metadata": {
  "kernelspec": {
   "display_name": "Python 3",
   "language": "python",
   "name": "python3"
  },
  "language_info": {
   "codemirror_mode": {
    "name": "ipython",
    "version": 3
   },
   "file_extension": ".py",
   "mimetype": "text/x-python",
   "name": "python",
   "nbconvert_exporter": "python",
   "pygments_lexer": "ipython3",
   "version": "3.8.8"
  },
  "toc": {
   "base_numbering": 1,
   "nav_menu": {},
   "number_sections": true,
   "sideBar": true,
   "skip_h1_title": true,
   "title_cell": "Table of Contents",
   "title_sidebar": "Contents",
   "toc_cell": false,
   "toc_position": {},
   "toc_section_display": true,
   "toc_window_display": false
  }
 },
 "nbformat": 4,
 "nbformat_minor": 2
}
