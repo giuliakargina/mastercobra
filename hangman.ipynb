{
 "cells": [
  {
   "cell_type": "markdown",
   "metadata": {},
   "source": [
    "# Hangman game\n",
    "\n",
    "## Initialize\n",
    "- Acquisition of word list\n",
    "- Random select a word\n",
    "- Initialize number of trials\n",
    "- (take into account the word frequency)\n",
    "\n",
    "## Play\n",
    "- output for the user\n",
    "- method for trials\n",
    "- check"
   ]
  },
  {
   "cell_type": "code",
   "execution_count": 79,
   "metadata": {},
   "outputs": [],
   "source": [
    "from typing import List\n",
    "import numpy as np"
   ]
  },
  {
   "cell_type": "code",
   "execution_count": 116,
   "metadata": {},
   "outputs": [],
   "source": [
    "class Hangman(object):\n",
    "    \n",
    "    def __init__(self, \n",
    "                 list_of_words: List[str],\n",
    "                 word_len: int = 6,\n",
    "                 trials: int = 8):\n",
    "        self._idx = {}\n",
    "        self.word_len, self.trials = word_len, trials\n",
    "        self._update_index(list_of_words)\n",
    "        self.selected_word = None\n",
    "        self._select_word()\n",
    "        self.mask = ['_'] * len(self.selected_word)\n",
    "                \n",
    "    def _update_index(self, list_of_words: List[str]):\n",
    "        for word in list_of_words:\n",
    "            try:\n",
    "                self._idx[len(word)].append(word)\n",
    "            except KeyError:\n",
    "                self._idx[len(word)] = [word]\n",
    "    \n",
    "    def get_words(self, length: int):\n",
    "        try:\n",
    "            return self._idx[length]\n",
    "        except KeyError:\n",
    "            return []\n",
    "        \n",
    "    def add_words(self, list_of_words: List[str]):\n",
    "        self._update_index(list_of_words)\n",
    "        \n",
    "    def print_status(self):\n",
    "        print(self.mask)\n",
    "        print('\\nRemaining trials {}'.format(self.trials))\n",
    "        \n",
    "    def play(self, guess: str):\n",
    "        self.trials -= 1\n",
    "        for i, ch in enumerate(self.selected_word):\n",
    "            if guess[i] == ch:\n",
    "                self.mask[i] = ch\n",
    "         \n",
    "    def _select_word(self):\n",
    "        try:\n",
    "            candidates = self._idx[self.word_len]\n",
    "            self.selected_word = np.random.choice(candidates)\n",
    "        except KeyError:\n",
    "            print(\n",
    "                'Non esistono parole di lunghezza {}'.format(\n",
    "                self.word_len))"
   ]
  },
  {
   "cell_type": "code",
   "execution_count": 117,
   "metadata": {},
   "outputs": [],
   "source": [
    "file_path = 'words/1000_parole_italiane_comuni.txt'\n",
    "with open(file_path, 'r') as fhandle:\n",
    "    lines = fhandle.readlines()\n",
    "words = [w.strip('\\n') for w in lines]"
   ]
  },
  {
   "cell_type": "code",
   "execution_count": 130,
   "metadata": {},
   "outputs": [],
   "source": [
    "h = Hangman(words, word_len=6, trials=8)"
   ]
  },
  {
   "cell_type": "code",
   "execution_count": null,
   "metadata": {},
   "outputs": [],
   "source": []
  }
 ],
 "metadata": {
  "kernelspec": {
   "display_name": "Python 3",
   "language": "python",
   "name": "python3"
  },
  "language_info": {
   "codemirror_mode": {
    "name": "ipython",
    "version": 3
   },
   "file_extension": ".py",
   "mimetype": "text/x-python",
   "name": "python",
   "nbconvert_exporter": "python",
   "pygments_lexer": "ipython3",
   "version": "3.8.8"
  },
  "toc": {
   "base_numbering": 1,
   "nav_menu": {},
   "number_sections": true,
   "sideBar": true,
   "skip_h1_title": true,
   "title_cell": "Table of Contents",
   "title_sidebar": "Contents",
   "toc_cell": false,
   "toc_position": {},
   "toc_section_display": true,
   "toc_window_display": false
  }
 },
 "nbformat": 4,
 "nbformat_minor": 2
}
