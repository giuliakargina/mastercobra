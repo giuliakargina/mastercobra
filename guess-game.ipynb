{
 "cells": [
  {
   "cell_type": "markdown",
   "id": "a9ef94c3",
   "metadata": {},
   "source": [
    "# Semplice gioco per lavorare con controllo del flusso, funzioni, importazione di librerie e visualizzazione"
   ]
  },
  {
   "cell_type": "markdown",
   "id": "f7019d5b",
   "metadata": {},
   "source": [
    "## TASK 1\n",
    "Implementare una funzione per giocare a 'indovina il numero'.\n",
    "- Generare un numero intero casuale entro un range definito come input della funzione\n",
    "- La funzione valuta un secondo input che è il tentativo del giocatore umano\n",
    "- Confrontando il tentativo con il valore corretto, la funzione restituisce un feedback sulla base del fatto che il numero da indovinare sia uguale al tentativo, superiore o inferiore"
   ]
  },
  {
   "cell_type": "code",
   "execution_count": 3,
   "id": "762f0d14",
   "metadata": {},
   "outputs": [],
   "source": [
    "import numpy as np"
   ]
  },
  {
   "cell_type": "code",
   "execution_count": 11,
   "id": "b6aaea7a",
   "metadata": {},
   "outputs": [
    {
     "data": {
      "text/plain": [
       "92"
      ]
     },
     "execution_count": 11,
     "metadata": {},
     "output_type": "execute_result"
    }
   ],
   "source": [
    "np.random.randint(0, 100)"
   ]
  },
  {
   "cell_type": "code",
   "execution_count": 33,
   "id": "06e973ce",
   "metadata": {},
   "outputs": [],
   "source": [
    "def oracle(guess=1, correct=6):\n",
    "    if guess == correct:\n",
    "        result = 'WIN'\n",
    "    elif guess > correct:\n",
    "        result = 'TOO HIGH'\n",
    "    else:\n",
    "        result = 'TOO LOW'\n",
    "    return result"
   ]
  },
  {
   "cell_type": "code",
   "execution_count": 42,
   "id": "d19a0d0d",
   "metadata": {},
   "outputs": [
    {
     "name": "stdout",
     "output_type": "stream",
     "text": [
      "WIN\n"
     ]
    }
   ],
   "source": [
    "mn, mx = 0, 10\n",
    "jackpot = np.random.randint(low=mn, high=mx)\n",
    "outcome = oracle(guess=3, correct=jackpot)\n",
    "print(outcome)"
   ]
  },
  {
   "cell_type": "markdown",
   "id": "662ef84c",
   "metadata": {},
   "source": [
    "## TASK 2\n",
    "Implementare un giocatore artificiale che competa con la funzione per indovinare il numero. Memorizzare l'esito dei testativi."
   ]
  },
  {
   "cell_type": "code",
   "execution_count": 79,
   "id": "841ef85c",
   "metadata": {},
   "outputs": [],
   "source": [
    "mn, mx, plays = 0, 10, 1000\n",
    "history = []\n",
    "for match in range(plays):\n",
    "    jackpot = np.random.randint(low=mn, high=mx)\n",
    "    counter = 0\n",
    "    for n in range(mn, mx):\n",
    "        counter += 1\n",
    "        outcome = oracle(guess=n, correct=jackpot)\n",
    "        if outcome == 'WIN':\n",
    "            break\n",
    "    history.append(counter)"
   ]
  },
  {
   "cell_type": "code",
   "execution_count": 80,
   "id": "7018cb6b",
   "metadata": {},
   "outputs": [],
   "source": [
    "mn, mx, plays = 0, 10, 1000\n",
    "history2 = []\n",
    "for match in range(1000):\n",
    "    jackpot = np.random.randint(low=mn, high=mx)\n",
    "    counter = 0\n",
    "    initial_guess = (mx - mn) // 2\n",
    "    for n in range(mn, mx):\n",
    "        counter += 1\n",
    "        outcome = oracle(guess=initial_guess, correct=jackpot)\n",
    "        if outcome == 'WIN':\n",
    "            break\n",
    "        else:\n",
    "            if outcome == 'TOO HIGH':\n",
    "                initial_guess -= 1\n",
    "            else:\n",
    "                initial_guess += 1\n",
    "    history2.append(counter)"
   ]
  },
  {
   "cell_type": "code",
   "execution_count": 81,
   "id": "496162b5",
   "metadata": {},
   "outputs": [
    {
     "name": "stdout",
     "output_type": "stream",
     "text": [
      "5.552 3.549\n"
     ]
    }
   ],
   "source": [
    "print(sum(history) / plays, sum(history2) / plays)"
   ]
  },
  {
   "cell_type": "code",
   "execution_count": 82,
   "id": "2ee3d2c9",
   "metadata": {},
   "outputs": [],
   "source": [
    "import matplotlib.pyplot as plt"
   ]
  },
  {
   "cell_type": "code",
   "execution_count": 84,
   "id": "b0d9a89b",
   "metadata": {},
   "outputs": [
    {
     "data": {
      "image/png": "[encoded data removed]",
      "text/plain": [
       "<Figure size 720x432 with 1 Axes>"
      ]
     },
     "metadata": {
      "needs_background": "light"
     },
     "output_type": "display_data"
    }
   ],
   "source": [
    "fig, ax = plt.subplots(figsize=(10, 6))\n",
    "ax.plot(np.cumsum(history))\n",
    "ax.plot(np.cumsum(history2))\n",
    "plt.show()"
   ]
  },
  {
   "cell_type": "markdown",
   "id": "a62865ec",
   "metadata": {},
   "source": [
    "## TASK 3\n",
    "Implementare più giocatori che applicano più strategie diverse, riutilizzando il codice comune ai diversi giocatori."
   ]
  },
  {
   "cell_type": "markdown",
   "id": "35e787c6",
   "metadata": {},
   "source": [
    "## TASK 4\n",
    "Eseguire più partite fra giocatori che utilizzano strategie diverse e raccogliere i risultati ottenuti."
   ]
  },
  {
   "cell_type": "markdown",
   "id": "212ba8b9",
   "metadata": {},
   "source": [
    "## TASK 5\n",
    "Visualizzare gli esiti dei diversi giocatori."
   ]
  },
  {
   "cell_type": "code",
   "execution_count": null,
   "id": "964a39a8",
   "metadata": {},
   "outputs": [],
   "source": []
  }
 ],
 "metadata": {
  "kernelspec": {
   "display_name": "Python 3 (ipykernel)",
   "language": "python",
   "name": "python3"
  },
  "language_info": {
   "codemirror_mode": {
    "name": "ipython",
    "version": 3
   },
   "file_extension": ".py",
   "mimetype": "text/x-python",
   "name": "python",
   "nbconvert_exporter": "python",
   "pygments_lexer": "ipython3",
   "version": "3.8.8"
  },
  "toc": {
   "base_numbering": 1,
   "nav_menu": {},
   "number_sections": true,
   "sideBar": true,
   "skip_h1_title": false,
   "title_cell": "Table of Contents",
   "title_sidebar": "Contents",
   "toc_cell": false,
   "toc_position": {},
   "toc_section_display": true,
   "toc_window_display": false
  }
 },
 "nbformat": 4,
 "nbformat_minor": 5
}
